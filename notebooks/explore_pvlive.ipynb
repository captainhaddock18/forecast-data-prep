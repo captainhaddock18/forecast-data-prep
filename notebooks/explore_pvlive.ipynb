{
 "cells": [
  {
   "cell_type": "code",
   "execution_count": 1,
   "metadata": {},
   "outputs": [],
   "source": [
    "import pandas as pd\n",
    "import plotly.express as px"
   ]
  },
  {
   "cell_type": "code",
   "execution_count": 2,
   "metadata": {},
   "outputs": [],
   "source": [
    "df = pd.read_csv(\"../data/pvlive_2016_2023.csv\")"
   ]
  },
  {
   "cell_type": "code",
   "execution_count": null,
   "metadata": {},
   "outputs": [],
   "source": [
    "display(df)"
   ]
  },
  {
   "cell_type": "code",
   "execution_count": null,
   "metadata": {},
   "outputs": [],
   "source": [
    "px.scatter(df, x=\"start_datetime_utc\",y=\"capacity_mwp\")"
   ]
  },
  {
   "cell_type": "code",
   "execution_count": null,
   "metadata": {},
   "outputs": [],
   "source": [
    "px.scatter(df, x=\"start_datetime_utc\",y=\"installedcapacity_mwp\")"
   ]
  },
  {
   "cell_type": "code",
   "execution_count": null,
   "metadata": {},
   "outputs": [],
   "source": [
    "# Get peak generation per day\n",
    "df['date'] = pd.to_datetime(df['start_datetime_utc']).dt.date\n",
    "daily_peak = df.groupby('date').agg({\n",
    "    'generation_mw': 'max',\n",
    "    'capacity_mwp': 'first'\n",
    "}).reset_index()\n",
    "\n",
    "# Create scatter plot of daily peak generation vs capacity\n",
    "fig = px.scatter(\n",
    "    daily_peak,\n",
    "    x=\"capacity_mwp\", \n",
    "    y=\"generation_mw\",\n",
    "    title=\"Daily Peak Solar Generation vs Capacity\",\n",
    "    labels={\n",
    "        \"capacity_mwp\": \"Capacity (MWp)\",\n",
    "        \"generation_mw\": \"Peak Generation (MW)\",\n",
    "        \"date\": \"Date\"\n",
    "    },\n",
    "    hover_data=[\"date\"]\n",
    ")\n",
    "fig.show()\n"
   ]
  }
 ],
 "metadata": {
  "kernelspec": {
   "display_name": "Python 3",
   "language": "python",
   "name": "python3"
  },
  "language_info": {
   "codemirror_mode": {
    "name": "ipython",
    "version": 3
   },
   "file_extension": ".py",
   "mimetype": "text/x-python",
   "name": "python",
   "nbconvert_exporter": "python",
   "pygments_lexer": "ipython3",
   "version": "3.10.13"
  }
 },
 "nbformat": 4,
 "nbformat_minor": 2
}
