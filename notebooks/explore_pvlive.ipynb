{
 "cells": [
  {
   "cell_type": "code",
   "execution_count": 51,
   "metadata": {},
   "outputs": [],
   "source": [
    "import pandas as pd\n",
    "import plotly.express as px"
   ]
  },
  {
   "cell_type": "code",
   "execution_count": 52,
   "metadata": {},
   "outputs": [],
   "source": [
    "df = pd.read_csv(\"../data/pvlive_2023_2024.csv\")"
   ]
  },
  {
   "cell_type": "code",
   "execution_count": null,
   "metadata": {},
   "outputs": [],
   "source": [
    "display(df)"
   ]
  },
  {
   "cell_type": "code",
   "execution_count": 54,
   "metadata": {},
   "outputs": [],
   "source": [
    "def filter_date_range(df, start_date=\"2023-01-01\", end_date=\"2024-07-15\"):\n",
    "    df[\"start_datetime_utc\"] = pd.to_datetime(df[\"start_datetime_utc\"])\n",
    "    df = df[df[\"start_datetime_utc\"] > start_date]\n",
    "    df = df[df[\"start_datetime_utc\"] < end_date]\n",
    "    return df\n",
    "\n",
    "df_1 = filter_date_range(df)"
   ]
  },
  {
   "cell_type": "code",
   "execution_count": null,
   "metadata": {},
   "outputs": [],
   "source": [
    "px.scatter(df_1, x=\"start_datetime_utc\",y=\"capacity_mwp\",title=\"Solar Capacity 2023/01/01 - 2024/07/05\")\n",
    "# px.update_layout(title=\"Solar Capacity 2023/01/01  - 2024/11/11\")\n",
    "\n",
    "# px.scatter(df_1, x=\"start_datetime_utc\",y=\"installedcapacity_mwp\")"
   ]
  },
  {
   "cell_type": "code",
   "execution_count": null,
   "metadata": {},
   "outputs": [],
   "source": [
    "# Get peak generation per day\n",
    "df_1['date'] = pd.to_datetime(df_1['start_datetime_utc']).dt.date\n",
    "daily_peak = df_1.groupby('date').agg({\n",
    "    'generation_mw': 'max',\n",
    "    'capacity_mwp': 'first'\n",
    "}).reset_index()\n",
    "\n",
    "# Create scatter plot of daily peak generation vs capacity\n",
    "fig = px.scatter(\n",
    "    daily_peak,\n",
    "    x=\"capacity_mwp\", \n",
    "    y=\"generation_mw\",\n",
    "    title=\"Daily Peak Solar Generation vs Capacity\",\n",
    "    labels={\n",
    "        \"capacity_mwp\": \"Capacity (MWp)\",\n",
    "        \"generation_mw\": \"Peak Generation (MW)\",\n",
    "        \"date\": \"Date\"\n",
    "    },\n",
    "    hover_data=[\"date\"]\n",
    ")\n",
    "fig.show()\n"
   ]
  },
  {
   "cell_type": "code",
   "execution_count": null,
   "metadata": {},
   "outputs": [],
   "source": [
    "import matplotlib.pyplot as plt\n",
    "import seaborn as sns\n",
    "from scipy import stats\n",
    "import numpy as np\n",
    "\n",
    "# Create the scatter plot\n",
    "plt.figure(figsize=(12, 6))\n",
    "sns.scatterplot(data=df, x='start_datetime_utc', y='capacity_mwp', alpha=0.5)\n",
    "\n",
    "# Calculate the line of best fit\n",
    "slope, intercept, r_value, p_value, std_err = stats.linregress(\n",
    "    x=df_1['start_datetime_utc'].astype(np.int64) // 10**9,  # Convert datetime to unix timestamp\n",
    "    y=df_1['capacity_mwp']\n",
    ")\n",
    "\n",
    "# Create points for the line of best fit\n",
    "x_values = df_1['start_datetime_utc']\n",
    "y_values = slope * (x_values.astype(np.int64) // 10**9) + intercept\n",
    "\n",
    "# Plot the line of best fit\n",
    "plt.plot(x_values, y_values, color='red', label=f'Slope: {slope:.5f} MWp/s')\n",
    "\n",
    "plt.title('Solar Capacity Over Time with Trend Line')\n",
    "plt.xlabel('Date')\n",
    "plt.ylabel('Capacity (MWp)')\n",
    "plt.legend()\n",
    "plt.xticks(rotation=45)\n",
    "plt.tight_layout()\n",
    "plt.show()\n",
    "\n",
    "# Print the slope in more readable units\n",
    "daily_slope = slope * 86400  # Convert seconds to days\n",
    "print(f\"Capacity is increasing by approximately {daily_slope:.2f} MWp per day\")"
   ]
  },
  {
   "cell_type": "code",
   "execution_count": 58,
   "metadata": {},
   "outputs": [],
   "source": [
    "df_2 = filter_date_range(df, start_date=\"2023-01-01\", end_date=\"2024-11-12\")"
   ]
  },
  {
   "cell_type": "code",
   "execution_count": null,
   "metadata": {},
   "outputs": [],
   "source": [
    "# Create the scatter plot\n",
    "plt.figure(figsize=(12, 6))\n",
    "sns.scatterplot(data=df_2, x='start_datetime_utc', y='capacity_mwp', alpha=0.5)\n",
    "# Create points for the line of best fit\n",
    "x_values = df_2['start_datetime_utc']\n",
    "y_values = slope * (x_values.astype(np.int64) // 10**9) + intercept\n",
    "\n",
    "# Plot the line of best fit\n",
    "plt.plot(x_values, y_values, color='red', label=f'Slope: 4.61 MWp/day')\n",
    "\n",
    "plt.title('Forecast Solar Capacity Retrospective Updates')\n",
    "plt.xlabel('Date')\n",
    "plt.ylabel('Capacity (MWp)')\n",
    "plt.legend()\n",
    "plt.xticks(rotation=45)\n",
    "plt.tight_layout()\n",
    "plt.show()"
   ]
  }
 ],
 "metadata": {
  "kernelspec": {
   "display_name": "Python 3",
   "language": "python",
   "name": "python3"
  },
  "language_info": {
   "codemirror_mode": {
    "name": "ipython",
    "version": 3
   },
   "file_extension": ".py",
   "mimetype": "text/x-python",
   "name": "python",
   "nbconvert_exporter": "python",
   "pygments_lexer": "ipython3",
   "version": "3.10.13"
  }
 },
 "nbformat": 4,
 "nbformat_minor": 2
}
