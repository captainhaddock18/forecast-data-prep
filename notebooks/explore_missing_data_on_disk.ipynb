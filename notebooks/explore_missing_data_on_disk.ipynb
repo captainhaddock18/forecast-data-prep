{
 "cells": [
  {
   "cell_type": "code",
   "execution_count": 1,
   "metadata": {},
   "outputs": [],
   "source": [
    "import os\n",
    "from datetime import datetime\n",
    "\n",
    "import pandas as pd\n",
    "import plotly.graph_objects as go"
   ]
  },
  {
   "cell_type": "code",
   "execution_count": null,
   "metadata": {},
   "outputs": [],
   "source": [
    "# zipped zarrs dir\n",
    "# '/mnt/storage_b/nwp/ceda/uk'\n",
    "# '/mnt/storage_b/nwp/ecmwf/uk'\n",
    "\n",
    "directory = \"/mnt/storage_b/nwp/ceda/uk\"\n",
    "file_array = []\n",
    "\n",
    "for root, dirs, files in os.walk(directory):\n",
    "    for file in files:\n",
    "        file_array.append(os.path.join(root, file))\n",
    "\n",
    "print(file_array[:5])\n",
    "print(len(file_array))"
   ]
  },
  {
   "cell_type": "code",
   "execution_count": null,
   "metadata": {},
   "outputs": [],
   "source": [
    "# Function to extract date from file path\n",
    "def extract_date_from_path(file_path):\n",
    "    base_name = file_path.split(\"/\")[-1]  # Get the last part of the path\n",
    "    date_str = base_name.split(\".\")[0]  # Split by '.' and take the first part\n",
    "    return datetime.strptime(date_str, \"%Y%m%dT%H%M\")  # Convert string to datetime object\n",
    "\n",
    "\n",
    "dates = [extract_date_from_path(fp) for fp in file_array]\n",
    "print(len(dates))"
   ]
  },
  {
   "cell_type": "code",
   "execution_count": null,
   "metadata": {},
   "outputs": [],
   "source": [
    "# Create the dataframe\n",
    "date_counts = pd.DataFrame(columns=[\"Date\", \"Count\"])\n",
    "\n",
    "dates = [date.date() for date in dates]\n",
    "\n",
    "# Iterate over the dates\n",
    "for date in dates:\n",
    "    # Check if the date is already in the dataframe\n",
    "    if date in date_counts[\"Date\"].values:\n",
    "        # If it is, increment the count\n",
    "        date_counts.loc[date_counts[\"Date\"] == date, \"Count\"] += 1\n",
    "    else:\n",
    "        # If it isn't, add a new row\n",
    "        date_counts = date_counts.append({\"Date\": date, \"Count\": 1}, ignore_index=True)\n",
    "\n",
    "min_nwp = date_counts[\"Date\"].min()  # Minimum date from sorted_dates\n",
    "max_nwp = date_counts[\"Date\"].max()  # Maximum date from sorted_dates, can modify to be what is meant to go up to.\n",
    "\n",
    "# Iterate over the range of dates between min_nwp and max_nwp\n",
    "date_counts_inclusive = date_counts.copy()\n",
    "\n",
    "for date in pd.date_range(min_nwp, max_nwp, freq=\"D\"):\n",
    "    if date not in date_counts_inclusive[\"Date\"].values:\n",
    "        date_counts_inclusive = date_counts_inclusive.append({\"Date\": date, \"Count\": 0}, ignore_index=True)\n",
    "\n",
    "date_counts_inclusive = date_counts_inclusive.sort_values(by=\"Date\")\n",
    "date_counts_inclusive"
   ]
  },
  {
   "cell_type": "code",
   "execution_count": null,
   "metadata": {},
   "outputs": [],
   "source": [
    "# Create graph showing missing init times per day\n",
    "fig = go.Figure()\n",
    "fig.add_trace(go.Scatter(x=date_counts_inclusive[\"Date\"], y=date_counts_inclusive[\"Count\"], mode=\"lines\"))\n",
    "\n",
    "fig.update_layout(\n",
    "    xaxis_title=\"Date\",\n",
    "    yaxis_title=\"Number of Init Times Per Day\",\n",
    "    title=\"Number of Init Times Per Day for NWP Data\",\n",
    ")\n",
    "\n",
    "fig.show()"
   ]
  },
  {
   "cell_type": "code",
   "execution_count": null,
   "metadata": {},
   "outputs": [],
   "source": [
    "# Calacuate statistics around the data availability\n",
    "total_count = date_counts_inclusive[\"Count\"].sum()\n",
    "print(f\"Number of init times: {total_count}\")\n",
    "\n",
    "total_days_at_least_one_init_time = len(date_counts_inclusive[date_counts_inclusive[\"Count\"] > 0])\n",
    "print(f\"Number of days with at least one init time: {total_days_at_least_one_init_time}\")\n",
    "\n",
    "nwp_init_times_per_day = 8  # Change for different NWP\n",
    "\n",
    "total_complete_days = len(date_counts_inclusive[date_counts_inclusive[\"Count\"] == nwp_init_times_per_day])\n",
    "print(f\"Number of complete days: {total_complete_days}\")\n",
    "\n",
    "print(f\"Minimum NWP: {min_nwp}\")\n",
    "print(f\"Maximum NWP: {max_nwp}\")\n",
    "\n",
    "# Assuming min_nwp and max_nwp are already calculated\n",
    "delta_days = max_nwp - min_nwp\n",
    "number_of_days = delta_days.days\n",
    "\n",
    "print(f\"Number of Days Between Max and Min Date: {number_of_days}\")\n",
    "\n",
    "# calc % of files available\n",
    "missing_init_time_perc = (\n",
    "    ((number_of_days * nwp_init_times_per_day) - total_count) / (number_of_days * nwp_init_times_per_day)\n",
    ") * 100\n",
    "days_no_nwp_perc = ((number_of_days - total_days_at_least_one_init_time) / number_of_days) * 100\n",
    "\n",
    "print(f\"Percentage of init times missing: {missing_init_time_perc:.2f}%\")\n",
    "print(f\"Percentage of Days with no NWP: {days_no_nwp_perc:.2f}%\")"
   ]
  },
  {
   "cell_type": "code",
   "execution_count": 4,
   "metadata": {},
   "outputs": [],
   "source": [
    "# Check pv data\n",
    "import xarray as xr\n",
    "df_pv = xr.open_zarr(\"/mnt/disks/gcp_data/pv_gsp/pvlive_gsp.zarr\")"
   ]
  },
  {
   "cell_type": "code",
   "execution_count": null,
   "metadata": {},
   "outputs": [],
   "source": [
    "df_pv"
   ]
  },
  {
   "cell_type": "code",
   "execution_count": 6,
   "metadata": {},
   "outputs": [],
   "source": [
    "df_pv_times = df_pv.datetime_gmt.values"
   ]
  },
  {
   "cell_type": "code",
   "execution_count": null,
   "metadata": {},
   "outputs": [],
   "source": [
    "# Convert the datetime64 array to a pandas DatetimeIndex\n",
    "df_index = pd.DatetimeIndex(df_pv_times)\n",
    "\n",
    "# Count the number of times per month\n",
    "monthly_counts = df_index.to_period('M').value_counts().sort_index()\n",
    "\n",
    "# Create a bar plot\n",
    "import matplotlib.pyplot as plt\n",
    "\n",
    "plt.figure(figsize=(12, 6))\n",
    "monthly_counts.plot(kind='bar')\n",
    "plt.title('Number of Observations per Month in 2023')\n",
    "plt.xlabel('Month')\n",
    "plt.ylabel('Count')\n",
    "plt.xticks(rotation=45)\n",
    "plt.tight_layout()\n",
    "plt.show()\n",
    "\n",
    "# Print the counts\n",
    "print(monthly_counts)\n"
   ]
  }
 ],
 "metadata": {
  "kernelspec": {
   "display_name": "base",
   "language": "python",
   "name": "python3"
  },
  "language_info": {
   "codemirror_mode": {
    "name": "ipython",
    "version": 3
   },
   "file_extension": ".py",
   "mimetype": "text/x-python",
   "name": "python",
   "nbconvert_exporter": "python",
   "pygments_lexer": "ipython3",
   "version": "3.10.13"
  }
 },
 "nbformat": 4,
 "nbformat_minor": 2
}
