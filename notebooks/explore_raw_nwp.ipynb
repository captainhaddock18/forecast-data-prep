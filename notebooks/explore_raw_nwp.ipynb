{
 "cells": [
  {
   "cell_type": "code",
   "execution_count": 2,
   "metadata": {},
   "outputs": [],
   "source": [
    "import pandas as pd\n",
    "import plotly.express as px\n",
    "import plotly.graph_objects as go\n",
    "import xarray as xr"
   ]
  },
  {
   "cell_type": "code",
   "execution_count": null,
   "metadata": {},
   "outputs": [],
   "source": [
    "# unprocessed zipped zarrs\n",
    "ds_mo = xr.open_zarr(\"/mnt/storage_b/nwp/ceda/uk/20231121T1500.zarr.zip\")\n",
    "ds_ecmwf = xr.open_zarr(\"/mnt/storage_b/nwp/ecmwf/uk/20190416T0000.zarr.zip\")"
   ]
  },
  {
   "cell_type": "code",
   "execution_count": null,
   "metadata": {},
   "outputs": [],
   "source": [
    "ds_mo\n",
    "# ds_ecmwf"
   ]
  },
  {
   "cell_type": "code",
   "execution_count": null,
   "metadata": {},
   "outputs": [],
   "source": [
    "ds_filt = ds_mo.sel(init_time=ds_mo.init_time[0], y=ds_mo.y[0], x=ds_mo.x[0])\n",
    "ds_filt\n",
    "\n",
    "fig = go.Figure()\n",
    "fig.add_trace(go.Scatter(x=ds_filt.step, y=ds_filt.mcc, mode=\"lines\", name=\"MCC\"))\n",
    "fig.update_layout(title=\"MCC vs Step\", xaxis_title=\"Step\", yaxis_title=\"MCC\")\n",
    "fig.show()"
   ]
  },
  {
   "cell_type": "code",
   "execution_count": 38,
   "metadata": {},
   "outputs": [],
   "source": [
    "# Inspect previous data\n",
    "ds_ecmwf_old = xr.open_zarr(\n",
    "    \"/mnt/storage_b/data/ocf/solar_pv_nowcasting/nowcasting_dataset_pipeline/NWP/ECMWF/uk/year_merged/2023.zarr\"\n",
    ")\n",
    "ds_ecmwf_old"
   ]
  },
  {
   "cell_type": "code",
   "execution_count": null,
   "metadata": {},
   "outputs": [],
   "source": [
    "# Load a new processed ECMWF file\n",
    "ds_ec_proc = xr.open_zarr(\n",
    "    \"/mnt/storage_b/data/ocf/solar_pv_nowcasting/nowcasting_dataset_pipeline/NWP/ECMWF/uk_ext/tmp/20230416T0000.zarr\"\n",
    ")\n",
    "ds_ec_proc"
   ]
  },
  {
   "cell_type": "code",
   "execution_count": null,
   "metadata": {},
   "outputs": [],
   "source": [
    "# Load a processed Met Office file\n",
    "ds_mo_proc = xr.open_zarr(\n",
    "    \"/mnt/storage_b/data/ocf/solar_pv_nowcasting/nowcasting_dataset_pipeline/NWP/UK_Met_Office/UKV_ext/tmp_2/20230416T0000.zarr\"\n",
    ")\n",
    "ds_mo_proc"
   ]
  },
  {
   "cell_type": "code",
   "execution_count": null,
   "metadata": {},
   "outputs": [],
   "source": [
    "# Look at fully processes yearly ECMWF file\n",
    "ds_ec_compiled = xr.open_zarr(\n",
    "    \"/mnt/storage_b/data/ocf/solar_pv_nowcasting/nowcasting_dataset_pipeline/NWP/ECMWF/uk_ext/t2/ECMWF_2019.zarr\"\n",
    ")\n",
    "ds_ec_compiled"
   ]
  },
  {
   "cell_type": "code",
   "execution_count": null,
   "metadata": {},
   "outputs": [],
   "source": [
    "# Look at fully processes Met Office yearly file\n",
    "ds_ec_compiled = xr.open_zarr(\n",
    "    \"/mnt/storage_b/data/ocf/solar_pv_nowcasting/nowcasting_dataset_pipeline/NWP/UK_Met_Office/UKV_ext/t4/UKV_2024.zarr\"\n",
    ")\n",
    "ds_ec_compiled"
   ]
  },
  {
   "cell_type": "code",
   "execution_count": null,
   "metadata": {},
   "outputs": [],
   "source": [
    "# Open the zarr filesize csv for Met Office\n",
    "\n",
    "# Extend the number of rows shown to 100\n",
    "pd.set_option(\"display.max_rows\", 100)\n",
    "\n",
    "df = pd.read_csv(\n",
    "    \"/mnt/storage_b/data/ocf/solar_pv_nowcasting/nowcasting_dataset_pipeline/NWP/UK_Met_Office/UKV_ext/zarr_file_sizes.csv\"\n",
    ")\n",
    "df = df.sort_values(by=\"size_MB\", ascending=True)\n",
    "df[\"last_15_characters\"] = df[\"file_path\"].str[-20:]\n",
    "df.head(100)"
   ]
  },
  {
   "cell_type": "code",
   "execution_count": null,
   "metadata": {},
   "outputs": [],
   "source": [
    "fig = px.histogram(df, x=\"size_MB\")\n",
    "fig.show()"
   ]
  }
 ],
 "metadata": {
  "kernelspec": {
   "display_name": "base",
   "language": "python",
   "name": "python3"
  },
  "language_info": {
   "codemirror_mode": {
    "name": "ipython",
    "version": 3
   },
   "file_extension": ".py",
   "mimetype": "text/x-python",
   "name": "python",
   "nbconvert_exporter": "python",
   "pygments_lexer": "ipython3",
   "version": "3.10.10"
  }
 },
 "nbformat": 4,
 "nbformat_minor": 2
}
