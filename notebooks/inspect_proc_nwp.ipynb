{
 "cells": [
  {
   "cell_type": "code",
   "execution_count": 1,
   "metadata": {},
   "outputs": [],
   "source": [
    "import plotly.graph_objects as go\n",
    "import xarray as xr"
   ]
  },
  {
   "cell_type": "code",
   "execution_count": null,
   "metadata": {},
   "outputs": [],
   "source": [
    "ds = xr.open_zarr(\n",
    "    # \"/mnt/storage_b/data/ocf/solar_pv_nowcasting/nowcasting_dataset_pipeline/NWP/UK_Met_Office/UKV_ext/t5/UKV_2023.zarr\"\n",
    "    \"/mnt/disks/gcp_data/nwp/ukv/ukv_ext/UKV_2019.zarr\"\n",
    ")\n",
    "ds"
   ]
  },
  {
   "cell_type": "code",
   "execution_count": null,
   "metadata": {},
   "outputs": [],
   "source": [
    "def plot_heatmap(d):\n",
    "    variable = \"dswrf\"\n",
    "    d = d.sel(variable=variable)\n",
    "    d = d.isel(step=0)\n",
    "    d = d.isel(init_time=120)  # gets the init time of 2022-01-15T09:00:00\n",
    "    print(d)\n",
    "\n",
    "    fig = go.Figure(data=go.Heatmap(z=d[\"UKV\"].values, x=d.x.values, y=d.y.values))\n",
    "    fig.show()\n",
    "\n",
    "\n",
    "plot_heatmap(ds)"
   ]
  }
 ],
 "metadata": {
  "kernelspec": {
   "display_name": "pv",
   "language": "python",
   "name": "python3"
  },
  "language_info": {
   "codemirror_mode": {
    "name": "ipython",
    "version": 3
   },
   "file_extension": ".py",
   "mimetype": "text/x-python",
   "name": "python",
   "nbconvert_exporter": "python",
   "pygments_lexer": "ipython3",
   "version": "3.10.13"
  }
 },
 "nbformat": 4,
 "nbformat_minor": 2
}
